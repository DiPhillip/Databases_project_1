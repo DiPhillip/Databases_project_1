{
 "cells": [
  {
   "cell_type": "code",
   "execution_count": 2,
   "id": "5b691e87",
   "metadata": {},
   "outputs": [
    {
     "name": "stdout",
     "output_type": "stream",
     "text": [
      "Collecting search_engines\n",
      "  Downloading search_engines-1.0.7.tar.gz (5.8 kB)\n",
      "Requirement already satisfied: lxml in /Users/Lucy/opt/anaconda3/lib/python3.8/site-packages (from search_engines) (4.6.3)\n",
      "Building wheels for collected packages: search-engines\n",
      "  Building wheel for search-engines (setup.py) ... \u001b[?25ldone\n",
      "\u001b[?25h  Created wheel for search-engines: filename=search_engines-1.0.7-py3-none-any.whl size=9590 sha256=ebce9d55de370bf234258ca0c551648ffd64e8c53e23c6fd3bfe13c3364f884c\n",
      "  Stored in directory: /Users/Lucy/Library/Caches/pip/wheels/59/b7/45/c5fa0911af4d15c8becadadedd1ad439e1a70d243e593e8f2d\n",
      "Successfully built search-engines\n",
      "Installing collected packages: search-engines\n",
      "Successfully installed search-engines-1.0.7\n",
      "Note: you may need to restart the kernel to use updated packages.\n"
     ]
    }
   ],
   "source": [
    "pip install search_engines\n"
   ]
  },
  {
   "cell_type": "code",
   "execution_count": 27,
   "id": "2a1b140f",
   "metadata": {},
   "outputs": [
    {
     "name": "stdout",
     "output_type": "stream",
     "text": [
      "Requirement already satisfied: my_fake_useragent in /Users/Lucy/opt/anaconda3/lib/python3.8/site-packages (0.2.0)\n",
      "Note: you may need to restart the kernel to use updated packages.\n"
     ]
    }
   ],
   "source": [
    "pip install my_fake_useragent\n"
   ]
  },
  {
   "cell_type": "code",
   "execution_count": null,
   "id": "32ff0538",
   "metadata": {},
   "outputs": [],
   "source": [
    "!pip install -U duckduckgo_search"
   ]
  },
  {
   "cell_type": "code",
   "execution_count": 28,
   "id": "de72574c",
   "metadata": {},
   "outputs": [
    {
     "name": "stdout",
     "output_type": "stream",
     "text": [
      "98\n"
     ]
    }
   ],
   "source": [
    "import pandas as pd\n",
    "import numpy as np\n",
    "import urllib\n",
    "from my_fake_useragent import UserAgent\n",
    "import requests\n",
    "import re\n",
    "from urllib.request import Request, urlopen\n",
    "from bs4 import BeautifulSoup\n",
    "\n",
    "ua = UserAgent()\n",
    "query=\"plants\"\n",
    "number_result=100\n",
    "google_url = \"https://google.com/search?q=\" + query + \"&num=\" + str(number_result)\n",
    "response = requests.get(google_url, {\"User-Agent\": ua.random})\n",
    "soup = BeautifulSoup(response.text, \"html.parser\")\n",
    "\n",
    "result_div = soup.find_all('div', attrs = {'class': 'ZINbbc'})\n",
    "\n",
    "links = []\n",
    "titles = []\n",
    "descriptions = []\n",
    "for r in result_div:\n",
    "    # Checks if each element is present, else, raise exception\n",
    "    try:\n",
    "        link = r.find('a', href = True)\n",
    "        title = r.find('div', attrs={'class':'vvjwJb'}).get_text()\n",
    "        description = r.find('div', attrs={'class':'s3v9rd'}).get_text()\n",
    "        \n",
    "        # Check to make sure everything is present before appending\n",
    "        if link != '' and title != '' and description != '': \n",
    "            links.append(link['href'])\n",
    "            titles.append(title)\n",
    "            descriptions.append(description)\n",
    "    # Next loop if one element is not present\n",
    "    except:\n",
    "        continue\n",
    "\n",
    "print(len(links))"
   ]
  },
  {
   "cell_type": "code",
   "execution_count": null,
   "id": "f5e765a8",
   "metadata": {},
   "outputs": [],
   "source": [
    "\n",
    "from duckduckgo_search import ddg\n",
    "\n",
    "keywords = 'medicinal plants'\n",
    "results = ddg(keywords, region='wt-wt', safesearch='Moderate', time='y', max_results=200)\n",
    "print(results)"
   ]
  }
 ],
 "metadata": {
  "kernelspec": {
   "display_name": "Python 3",
   "language": "python",
   "name": "python3"
  },
  "language_info": {
   "codemirror_mode": {
    "name": "ipython",
    "version": 3
   },
   "file_extension": ".py",
   "mimetype": "text/x-python",
   "name": "python",
   "nbconvert_exporter": "python",
   "pygments_lexer": "ipython3",
   "version": "3.8.8"
  }
 },
 "nbformat": 4,
 "nbformat_minor": 5
}
